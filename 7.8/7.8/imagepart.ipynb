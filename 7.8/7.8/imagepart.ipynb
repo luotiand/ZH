{
  "cells": [
    {
      "cell_type": "code",
      "execution_count": 1,
      "metadata": {
        "id": "oyiWzNu06-BY"
      },
      "outputs": [],
      "source": [
        "import pandas as pd\n",
        "# df = pd.read_csv('merged.csv')\n",
        "# # 过滤predTag列值为1的记录\n",
        "# filtered_df = df[df['predTag'] == 1]\n",
        "\n",
        "# # 保存到新的CSV文件\n",
        "# filtered_df.to_csv('filtered_file.csv', index=False)"
      ]
    },
    {
      "cell_type": "code",
      "execution_count": 2,
      "metadata": {
        "id": "8GYnWTl4Pwg5"
      },
      "outputs": [],
      "source": [
        "gt_df = pd.read_csv('gt.csv')\n",
        "\n",
        "# 创建一个空的列表用于存储处理后的行\n",
        "processed_rows = []\n",
        "\n",
        "# 遍历每个ImageID\n",
        "for image_id in gt_df['ImageID'].unique():\n",
        "    subset = gt_df[gt_df['ImageID'] == image_id]\n",
        "\n",
        "    if len(subset) == 1:\n",
        "        # 如果ImageID是单值，则不做变动\n",
        "        processed_rows.append(subset.iloc[0])\n",
        "    else:\n",
        "        # 如果ImageID是多值\n",
        "        if all(subset['labelID'] == 9):\n",
        "            # 如果所有LabelID均为9，则合并并且单独记为9\n",
        "            combined_row = subset.iloc[0].copy()\n",
        "            combined_row['labelID'] = 9\n",
        "            processed_rows.append(combined_row)\n",
        "        else:\n",
        "            # 如果不是所有LabelID均为9，则去掉为9的行，剩下的不做变动\n",
        "            non_9_rows = subset[subset['labelID'] != 9]\n",
        "            for _, row in non_9_rows.iterrows():\n",
        "                processed_rows.append(row)\n",
        "\n",
        "# 将处理后的行转换为DataFrame\n",
        "processed_gt_df = pd.DataFrame(processed_rows)\n",
        "\n",
        "processed_gt_df.to_csv('processed_gt.csv', index=False)"
      ]
    },
    {
      "cell_type": "code",
      "execution_count": 3,
      "metadata": {
        "colab": {
          "base_uri": "https://localhost:8080/"
        },
        "id": "lPfbSnUrSPTw",
        "outputId": "c4537322-7662-4db8-f275-49135f45413d"
      },
      "outputs": [
        {
          "name": "stdout",
          "output_type": "stream",
          "text": [
            "No data found for ImageID: 4.0\n",
            "No data found for ImageID: 8.0\n",
            "No data found for ImageID: 76.0\n",
            "No data found for ImageID: 192.0\n",
            "No data found for ImageID: 294.0\n",
            "No data found for ImageID: 469.0\n",
            "No data found for ImageID: 470.0\n",
            "No data found for ImageID: 665.0\n",
            "No data found for ImageID: 782.0\n",
            "No data found for ImageID: 850.0\n",
            "No data found for ImageID: 982.0\n",
            "No data found for ImageID: 1127.0\n",
            "No data found for ImageID: 1215.0\n",
            "No data found for ImageID: 1472.0\n",
            "No data found for ImageID: 1889.0\n",
            "No data found for ImageID: 1891.0\n",
            "No data found for ImageID: 2034.0\n",
            "No data found for ImageID: 2119.0\n",
            "No data found for ImageID: 2125.0\n",
            "No data found for ImageID: 2180.0\n",
            "No data found for ImageID: 2201.0\n",
            "No data found for ImageID: 2644.0\n",
            "No data found for ImageID: 2751.0\n",
            "No data found for ImageID: 2965.0\n",
            "No data found for ImageID: 3339.0\n",
            "No data found for ImageID: 3359.0\n",
            "No data found for ImageID: 3367.0\n",
            "No data found for ImageID: 3371.0\n",
            "No data found for ImageID: 3378.0\n"
          ]
        }
      ],
      "source": [
        "gt_df = pd.read_csv('processed_gt.csv')\n",
        "filtered_df = pd.read_csv('filtered_predTag_1.csv')\n",
        "\n",
        "# 初始化一个列表来存储合并后的结果\n",
        "result_list = []\n",
        "\n",
        "# 遍历所有ImageID\n",
        "for image_id in set(gt_df['ImageID']).union(filtered_df['ImageID']):\n",
        "    gt_labels = gt_df[gt_df['ImageID'] == image_id]['labelID'].tolist()\n",
        "    filtered_labels = filtered_df[filtered_df['ImageID'] == image_id]['labelID'].tolist()\n",
        "\n",
        "    gt_all_9 = all(label == 9 for label in gt_labels)\n",
        "    filtered_all_9 = all(label == 9 for label in filtered_labels)\n",
        "\n",
        "    if gt_all_9 and filtered_all_9:\n",
        "        result = 'same pass'\n",
        "    elif gt_all_9 and not filtered_all_9:\n",
        "        result = 'overkill'\n",
        "    elif not gt_all_9 and filtered_all_9:\n",
        "        result = 'miss kill'\n",
        "    elif set(gt_labels).isdisjoint(set(filtered_labels)):\n",
        "        result = 'wrong kill'\n",
        "    elif any(label != 9 and label in filtered_labels for label in gt_labels):\n",
        "        result = 'same NG'\n",
        "    else:\n",
        "        result = 'same NG'\n",
        "\n",
        "    # 获取额外的列数据\n",
        "    gt_data = gt_df[gt_df['ImageID'] == image_id]\n",
        "    filtered_data = filtered_df[filtered_df['ImageID'] == image_id]\n",
        "\n",
        "    if len(gt_data) == 0 or len(filtered_data) == 0:\n",
        "        print(f\"No data found for ImageID: {image_id}\")\n",
        "        continue\n",
        "\n",
        "    gt_data = gt_data.iloc[0]\n",
        "    filtered_data = filtered_data.iloc[0]\n",
        "\n",
        "    # 将结果添加到result_list\n",
        "    result_list.append({\n",
        "        'ImageID': image_id,\n",
        "        'GT_labelID': ','.join(map(str, gt_labels)),\n",
        "        'Filtered_labelID': ','.join(map(str, filtered_labels)),\n",
        "        'Result': result,\n",
        "        'GT_x_center': gt_data['x center'],\n",
        "        'GT_y_center': gt_data['y center'],\n",
        "        'GT_width': gt_data['width'],\n",
        "        'GT_height': gt_data['height'],\n",
        "        'GT_Area': gt_data['Area'],\n",
        "        'GT_boxID': gt_data['boxID'],\n",
        "        'Filtered_x_center': filtered_data['x center'],\n",
        "        'Filtered_y_center': filtered_data['y center'],\n",
        "        'Filtered_width': filtered_data['width'],\n",
        "        'Filtered_height': filtered_data['height'],\n",
        "        'Filtered_Area': filtered_data['Area'],\n",
        "    })\n",
        "\n",
        "# 将结果列表转换为DataFrame\n",
        "result_df = pd.DataFrame(result_list)\n",
        "\n",
        "result_df.to_csv('comparison_result.csv', index=False)"
      ]
    },
    {
      "cell_type": "code",
      "execution_count": 4,
      "metadata": {
        "colab": {
          "base_uri": "https://localhost:8080/"
        },
        "id": "7ZGSlxYJjJ3H",
        "outputId": "c258489a-b77f-4197-97bc-9503735de5fc"
      },
      "outputs": [
        {
          "name": "stdout",
          "output_type": "stream",
          "text": [
            "合并完成，结果已保存到merged_result.csv\n"
          ]
        }
      ],
      "source": [
        "# 读取CSV文件\n",
        "comparison_df = pd.read_csv('comparison_result.csv')\n",
        "filtered_df = pd.read_csv('filtered_predTag_1.csv')\n",
        "\n",
        "# 将comparison_result.csv中的Filtered_labelID进行拆分并展开\n",
        "comparison_df['Filtered_labelID'] = comparison_df['Filtered_labelID'].astype(str)  # 确保是字符串\n",
        "comparison_df_expanded = comparison_df.assign(Filtered_labelID=comparison_df['Filtered_labelID'].str.split(',')).explode('Filtered_labelID')\n",
        "comparison_df_expanded['Filtered_labelID'] = comparison_df_expanded['Filtered_labelID'].str.strip()  # 去除可能的空格\n",
        "\n",
        "# 先将值转换为浮点数，然后再转换为整数\n",
        "comparison_df_expanded['Filtered_labelID'] = comparison_df_expanded['Filtered_labelID'].astype(float).astype(int)\n",
        "\n",
        "# 合并数据，以ImageID和Filtered_labelID为基准\n",
        "merged_df = pd.merge(\n",
        "    comparison_df_expanded,\n",
        "    filtered_df,\n",
        "    left_on=['ImageID', 'Filtered_labelID'],\n",
        "    right_on=['ImageID', 'labelID'],\n",
        "    suffixes=('_comparison', '_filtered')\n",
        ")\n",
        "\n",
        "# 保存结果到新的CSV文件\n",
        "merged_df.to_csv('image_result.csv', index=False)\n",
        "\n",
        "print(\"合并完成，结果已保存到merged_result.csv\")"
      ]
    },
    {
      "cell_type": "markdown",
      "metadata": {
        "id": "pQA4BCJlfBWb"
      },
      "source": [
        "# 分析"
      ]
    },
    {
      "cell_type": "code",
      "execution_count": 5,
      "metadata": {
        "colab": {
          "base_uri": "https://localhost:8080/"
        },
        "id": "INTt3j_jU_eu",
        "outputId": "5cd7dbdf-bb61-423b-bb29-5323591c0940"
      },
      "outputs": [
        {
          "name": "stdout",
          "output_type": "stream",
          "text": [
            "一致NG率: 0.722189349112426\n",
            "一致通过率: 0.24763313609467455\n",
            "错杀率: 0.015088757396449704\n",
            "过杀率: 0.013609467455621301\n",
            "漏杀率: 0.0014792899408284023\n"
          ]
        }
      ],
      "source": [
        "# 计算每种情况的发生次数\n",
        "result_counts = result_df['Result'].value_counts()\n",
        "\n",
        "# 计算总样本数\n",
        "total_samples = len(result_df)\n",
        "\n",
        "# 计算每种情况的发生概率\n",
        "probabilities = result_counts / total_samples\n",
        "\n",
        "# 计算每种情况在样本中发生的概率\n",
        "consistent_NG_rate = probabilities.get('same NG', 0)\n",
        "consistent_pass_rate = probabilities.get('same pass', 0)\n",
        "wrong_kill_rate = probabilities.get('wrong kill', 0)\n",
        "overkill_rate = probabilities.get('overkill', 0)\n",
        "miss_kill_rate = probabilities.get('miss kill', 0)\n",
        "\n",
        "# 打印每种情况的发生概率\n",
        "print(\"一致NG率:\", consistent_NG_rate)\n",
        "print(\"一致通过率:\", consistent_pass_rate)\n",
        "print(\"错杀率:\", wrong_kill_rate)\n",
        "print(\"过杀率:\", overkill_rate)\n",
        "print(\"漏杀率:\", miss_kill_rate)\n",
        "\n",
        "# 保存概率结果到新的CSV文件\n",
        "probabilities_df = probabilities.reset_index()\n",
        "probabilities_df.columns = ['Result', 'Probability']\n",
        "probabilities_df.to_csv('probabilities.csv', index=False)"
      ]
    }
  ],
  "metadata": {
    "colab": {
      "collapsed_sections": [
        "2xZFHc3M5W-N"
      ],
      "provenance": []
    },
    "kernelspec": {
      "display_name": "Python 3",
      "name": "python3"
    },
    "language_info": {
      "codemirror_mode": {
        "name": "ipython",
        "version": 3
      },
      "file_extension": ".py",
      "mimetype": "text/x-python",
      "name": "python",
      "nbconvert_exporter": "python",
      "pygments_lexer": "ipython3",
      "version": "3.11.5"
    }
  },
  "nbformat": 4,
  "nbformat_minor": 0
}
